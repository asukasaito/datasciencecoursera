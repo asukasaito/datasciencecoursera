{
 "cells": [
  {
   "cell_type": "markdown",
   "metadata": {},
   "source": [
    "### Project Topic: Suvived passengers from Titanic \n",
    "The primary objective of this analysis is to predict the survival of Titanic passengers based on various attributes. The dataset, sourced from Kaggle, comprises a range of passenger attributes, including age, gender, name, fare, and port of embarkation, in addition to a survival indicator (1 for survived, 0 for did not survive). Given the availability of training data with labeled outcomes, this is a supervised learning problem.\n",
    "\n",
    "The focus of the analysis is predominantly on prediction rather than explanation. Consequently, while the importance and contribution of individual attributes to survival likelihood are acknowledged, they are not extensively explored. The primary metric for success in this analysis is the accuracy of survival predictions, reflecting the project's emphasis on predictive power over interpretive insights."
   ]
  },
  {
   "cell_type": "code",
   "execution_count": 1,
   "metadata": {},
   "outputs": [],
   "source": [
    "#used packages\n",
    "import matplotlib.pyplot as plt\n",
    "from matplotlib.colors import Normalize\n",
    "import numpy as np\n",
    "import pandas as pd\n",
    "import seaborn as sns\n",
    "\n",
    "from sklearn.datasets import make_blobs\n",
    "from sklearn.decomposition import PCA\n",
    "from sklearn.ensemble import RandomForestClassifier, GradientBoostingClassifier, AdaBoostClassifier\n",
    "from sklearn.impute import SimpleImputer\n",
    "from sklearn.linear_model import LogisticRegression\n",
    "from sklearn.metrics import classification_report, f1_score, roc_auc_score\n",
    "from sklearn.model_selection import train_test_split, GridSearchCV, cross_val_score\n",
    "from sklearn.pipeline import Pipeline\n",
    "from sklearn.preprocessing import StandardScaler, OneHotEncoder, MinMaxScaler, RobustScaler\n",
    "from sklearn.svm import SVC, LinearSVC\n",
    "from sklearn.tree import DecisionTreeClassifier, plot_tree"
   ]
  },
  {
   "cell_type": "markdown",
   "metadata": {},
   "source": [
    "### Used Data\n",
    "\n",
    "The dataset for this analysis, provided by Kaggle, consists of two parts: a training set and a test set. However, since the test set does not include outcomes for survival, the analysis primarily utilizes the training set. This training set will be further split into separate training and testing subsets to facilitate model validation and performance assessment.\n",
    "\n",
    "The dataset is relatively compact, with a total size of approximately 93KB and comprising 890 rows. All data is consolidated into a single CSV file. There is no need for joining multiple tables or datasets.\n",
    "\n",
    "Below is a detailed overview of the columns present in the dataset, along with their respective descriptions:\n",
    "\n"
   ]
  },
  {
   "cell_type": "markdown",
   "metadata": {},
   "source": [
    "| Variable | Definition                                 |\n",
    "|----------|--------------------------------------------|\n",
    "| survival | Survival                                   |\n",
    "| pclass   | Ticket class                               |\n",
    "| sex      | Sex                                        |\n",
    "| Age      | Age in years                               |\n",
    "| sibsp    | # of siblings / spouses aboard the Titanic |\n",
    "| parch    | # of parents / children aboard the Titanic |\n",
    "| ticket   | Ticket number                              |\n",
    "| fare     | Passenger fare                             |\n",
    "| cabin    | Cabin number                               |\n",
    "| embarked | Port of Embarkation                        |"
   ]
  },
  {
   "cell_type": "markdown",
   "metadata": {},
   "source": [
    "The data is avilable with this link;\n",
    "https://www.kaggle.com/competitions/titanic/data"
   ]
  },
  {
   "cell_type": "markdown",
   "metadata": {},
   "source": []
  },
  {
   "cell_type": "code",
   "execution_count": 2,
   "metadata": {},
   "outputs": [
    {
     "name": "stdout",
     "output_type": "stream",
     "text": [
      "<class 'pandas.core.frame.DataFrame'>\n",
      "RangeIndex: 891 entries, 0 to 890\n",
      "Data columns (total 12 columns):\n",
      " #   Column       Non-Null Count  Dtype  \n",
      "---  ------       --------------  -----  \n",
      " 0   PassengerId  891 non-null    int64  \n",
      " 1   Survived     891 non-null    int64  \n",
      " 2   Pclass       891 non-null    int64  \n",
      " 3   Name         891 non-null    object \n",
      " 4   Sex          891 non-null    object \n",
      " 5   Age          714 non-null    float64\n",
      " 6   SibSp        891 non-null    int64  \n",
      " 7   Parch        891 non-null    int64  \n",
      " 8   Ticket       891 non-null    object \n",
      " 9   Fare         891 non-null    float64\n",
      " 10  Cabin        204 non-null    object \n",
      " 11  Embarked     889 non-null    object \n",
      "dtypes: float64(2), int64(5), object(5)\n",
      "memory usage: 83.7+ KB\n"
     ]
    },
    {
     "data": {
      "text/html": [
       "<div>\n",
       "<style scoped>\n",
       "    .dataframe tbody tr th:only-of-type {\n",
       "        vertical-align: middle;\n",
       "    }\n",
       "\n",
       "    .dataframe tbody tr th {\n",
       "        vertical-align: top;\n",
       "    }\n",
       "\n",
       "    .dataframe thead th {\n",
       "        text-align: right;\n",
       "    }\n",
       "</style>\n",
       "<table border=\"1\" class=\"dataframe\">\n",
       "  <thead>\n",
       "    <tr style=\"text-align: right;\">\n",
       "      <th></th>\n",
       "      <th>PassengerId</th>\n",
       "      <th>Survived</th>\n",
       "      <th>Pclass</th>\n",
       "      <th>Name</th>\n",
       "      <th>Sex</th>\n",
       "      <th>Age</th>\n",
       "      <th>SibSp</th>\n",
       "      <th>Parch</th>\n",
       "      <th>Ticket</th>\n",
       "      <th>Fare</th>\n",
       "      <th>Cabin</th>\n",
       "      <th>Embarked</th>\n",
       "    </tr>\n",
       "  </thead>\n",
       "  <tbody>\n",
       "    <tr>\n",
       "      <th>0</th>\n",
       "      <td>1</td>\n",
       "      <td>0</td>\n",
       "      <td>3</td>\n",
       "      <td>Braund, Mr. Owen Harris</td>\n",
       "      <td>male</td>\n",
       "      <td>22.0</td>\n",
       "      <td>1</td>\n",
       "      <td>0</td>\n",
       "      <td>A/5 21171</td>\n",
       "      <td>7.2500</td>\n",
       "      <td>NaN</td>\n",
       "      <td>S</td>\n",
       "    </tr>\n",
       "    <tr>\n",
       "      <th>1</th>\n",
       "      <td>2</td>\n",
       "      <td>1</td>\n",
       "      <td>1</td>\n",
       "      <td>Cumings, Mrs. John Bradley (Florence Briggs Th...</td>\n",
       "      <td>female</td>\n",
       "      <td>38.0</td>\n",
       "      <td>1</td>\n",
       "      <td>0</td>\n",
       "      <td>PC 17599</td>\n",
       "      <td>71.2833</td>\n",
       "      <td>C85</td>\n",
       "      <td>C</td>\n",
       "    </tr>\n",
       "    <tr>\n",
       "      <th>2</th>\n",
       "      <td>3</td>\n",
       "      <td>1</td>\n",
       "      <td>3</td>\n",
       "      <td>Heikkinen, Miss. Laina</td>\n",
       "      <td>female</td>\n",
       "      <td>26.0</td>\n",
       "      <td>0</td>\n",
       "      <td>0</td>\n",
       "      <td>STON/O2. 3101282</td>\n",
       "      <td>7.9250</td>\n",
       "      <td>NaN</td>\n",
       "      <td>S</td>\n",
       "    </tr>\n",
       "  </tbody>\n",
       "</table>\n",
       "</div>"
      ],
      "text/plain": [
       "   PassengerId  Survived  Pclass  \\\n",
       "0            1         0       3   \n",
       "1            2         1       1   \n",
       "2            3         1       3   \n",
       "\n",
       "                                                Name     Sex   Age  SibSp  \\\n",
       "0                            Braund, Mr. Owen Harris    male  22.0      1   \n",
       "1  Cumings, Mrs. John Bradley (Florence Briggs Th...  female  38.0      1   \n",
       "2                             Heikkinen, Miss. Laina  female  26.0      0   \n",
       "\n",
       "   Parch            Ticket     Fare Cabin Embarked  \n",
       "0      0         A/5 21171   7.2500   NaN        S  \n",
       "1      0          PC 17599  71.2833   C85        C  \n",
       "2      0  STON/O2. 3101282   7.9250   NaN        S  "
      ]
     },
     "execution_count": 2,
     "metadata": {},
     "output_type": "execute_result"
    }
   ],
   "source": [
    "# data import and the preview\n",
    "train = pd.read_csv('data/train.csv')\n",
    "train_original = pd.read_csv('data/train.csv')\n",
    "train.info()\n",
    "\n",
    "test = pd.read_csv('data/test.csv')\n",
    "train.head(3)"
   ]
  },
  {
   "cell_type": "code",
   "execution_count": null,
   "metadata": {},
   "outputs": [],
   "source": []
  },
  {
   "cell_type": "markdown",
   "metadata": {},
   "source": [
    "### Data Cleaning\n",
    "\n",
    "The preprocessing of the Titanic dataset involved several key steps to prepare the data for analysis. The data set are relatively clean, yet need some cleaning. Although several steps are conducted, it seems there are still several potential actions. For Instance, several categorical columns are dropped for this time. But, some text mining approach may create valuable output from those columns. \n",
    "\n",
    "Here is the five steps.\n",
    "\n",
    "\n",
    "**1. Creation of a New Column:** \n",
    "The dataset includes a 'Name' column, which contains titles that can indicate marital status and gender, such as 'Mrs' or 'Miss' for females. To leverage this information, a new 'Title' column was derived from the 'Name' column.\n",
    "\n",
    "**2. Handling Missing Values (NA):**\n",
    "The dataset was first examined for missing values in each column.\n",
    "The 'Age' column, which contained several missing values, was addressed by imputing the average age of all passengers into these cells.\n",
    "The 'Cabin' column also had a significant number of missing values. However, this column was not utilized in the current analysis and thus was left as is.\n",
    "\n",
    "**3.Creation of Dummy Variables:**\n",
    "The dataset contains several categorical columns.\n",
    "To facilitate machine learning computations, these categorical variables were converted into dummy variables (1 or 0) for easier processing.\n",
    "\n",
    "**4. Dropping Columns:**\n",
    "Certain categorical columns deemed less important or challenging to analyze were dropped.\n",
    "These columns, while not used in the current analysis, could potentially be revisited in future studies.\n",
    "\n",
    "**5. Distribution Analysis of Numeric Columns:**\n",
    "Understanding the distribution of numeric columns, especially the target variable 'Survival', is crucial.\n",
    "Histograms were used to assess the distribution of these variables.\n",
    "These preprocessing steps were essential in ensuring the data was clean, structured, and ready for the subsequent stages of machine learning modeling.\n",
    "\n",
    "Important observation is here to see there is no large skew in the Survived distributions. If one side has much larger potion than the other side, Accuracy is not suitable assessment for this. \n",
    "\n"
   ]
  },
  {
   "cell_type": "code",
   "execution_count": 3,
   "metadata": {},
   "outputs": [],
   "source": [
    "#Creation of a New Column:\n",
    "title_mapping = \\\n",
    "[('Mr.','Mr'),('Don','Mr'),( 'Major','Mr'),( 'Capt.','Mr'),( 'Jonkheer','Mr'),( 'Rev.','Mr'),( 'Col.','Mr'),('Dr.','Mr'),('Master.','Mr'),('Sr.','Mr'),\\\n",
    " ('Countess', 'Mrs.'),(  'Mme.','Mrs.'),( 'Lady','Mrs.'),(  'Mrs.','Mrs.'),\\\n",
    " ('Mlle','Miss'),( 'Ms.','Miss'),( 'Miss.','Miss')]\n",
    "def extract_title(name, mappings):\n",
    "    for key, value in mappings:\n",
    "        if key in name:\n",
    "            return value\n",
    "    return 'Other'  \n",
    "train['Title'] = train['Name'].apply(lambda name: extract_title(name, title_mapping))\n",
    "\n",
    "\n"
   ]
  },
  {
   "cell_type": "code",
   "execution_count": 4,
   "metadata": {},
   "outputs": [
    {
     "data": {
      "text/plain": [
       "PassengerId      0\n",
       "Survived         0\n",
       "Pclass           0\n",
       "Name             0\n",
       "Sex              0\n",
       "Age              0\n",
       "SibSp            0\n",
       "Parch            0\n",
       "Ticket           0\n",
       "Fare             0\n",
       "Cabin          687\n",
       "Embarked         2\n",
       "Title            0\n",
       "dtype: int64"
      ]
     },
     "execution_count": 4,
     "metadata": {},
     "output_type": "execute_result"
    }
   ],
   "source": [
    "#Handling Missing Values (NA)\n",
    "mean_age = train['Age'].mean()\n",
    "train['Age'] = train['Age'].fillna(mean_age)\n",
    "train.isna().sum()"
   ]
  },
  {
   "cell_type": "code",
   "execution_count": 5,
   "metadata": {},
   "outputs": [],
   "source": [
    "#Creation of Dummy Variables\n",
    "train = pd.get_dummies(train, columns=['Sex'], drop_first=True)\n",
    "train = pd.get_dummies(train, columns=['Embarked'], drop_first=True)\n",
    "train = pd.get_dummies(train, columns=['Title'], drop_first=True)\n",
    "# Dropping Columns\n",
    "train = train.drop(['PassengerId','Name','Ticket', 'Cabin'], axis=1)\n",
    "\n"
   ]
  },
  {
   "cell_type": "code",
   "execution_count": null,
   "metadata": {},
   "outputs": [],
   "source": []
  },
  {
   "cell_type": "code",
   "execution_count": 6,
   "metadata": {},
   "outputs": [
    {
     "data": {
      "image/png": "[encoded data removed]",
      "text/plain": [
       "<Figure size 288x288 with 1 Axes>"
      ]
     },
     "metadata": {
      "needs_background": "light"
     },
     "output_type": "display_data"
    },
    {
     "data": {
      "image/png": "[encoded data removed]",
      "text/plain": [
       "<Figure size 288x288 with 1 Axes>"
      ]
     },
     "metadata": {
      "needs_background": "light"
     },
     "output_type": "display_data"
    },
    {
     "data": {
      "image/png": "[encoded data removed]",
      "text/plain": [
       "<Figure size 288x288 with 1 Axes>"
      ]
     },
     "metadata": {
      "needs_background": "light"
     },
     "output_type": "display_data"
    },
    {
     "data": {
      "image/png": "[encoded data removed]",
      "text/plain": [
       "<Figure size 288x288 with 1 Axes>"
      ]
     },
     "metadata": {
      "needs_background": "light"
     },
     "output_type": "display_data"
    },
    {
     "data": {
      "image/png": "[encoded data removed]",
      "text/plain": [
       "<Figure size 288x288 with 1 Axes>"
      ]
     },
     "metadata": {
      "needs_background": "light"
     },
     "output_type": "display_data"
    },
    {
     "data": {
      "image/png": "[encoded data removed]",
      "text/plain": [
       "<Figure size 288x288 with 1 Axes>"
      ]
     },
     "metadata": {
      "needs_background": "light"
     },
     "output_type": "display_data"
    }
   ],
   "source": [
    "#Distribution Analysis of Numeric Columns:\n",
    "for column in train:\n",
    "    if train[column].dtype in ['int64', 'float64']:\n",
    "        plt.figure(figsize=(4, 4))\n",
    "        sns.distplot(train[column], bins=20)  \n",
    "        #sns.boxplot(train[column])  \n",
    "        plt.title(f'Histogram of {column}')\n",
    "        plt.xlabel(column)\n",
    "        plt.ylabel('Frequency')\n",
    "        plt.show()"
   ]
  },
  {
   "cell_type": "markdown",
   "metadata": {},
   "source": [
    "### Exploratory Data Analysis\n",
    "\n",
    "During the Exploratory Data Analysis (EDA) phase, several key insights were gleaned from the Titanic dataset. The Correlation Analysis is most important element for this time. \n",
    "\n",
    "**Analysis of Numerical Columns:**\n",
    "- Basic statistics such as mean, standard deviation, and maximum values were examined.\n",
    "- The maximum age was observed to be 80 years, which is reasonable. The average age was approximately 29.6 years.\n",
    "- The maximum number of siblings/spouses aboard (SibSp) was 8, which, while high, is plausible.\n",
    "- A minimum fare of 0 was noted, likely attributable to crew members such as the captain.\n",
    "\n",
    "**Distribution Comparison of Numerical Columns:**\n",
    "- Standardization was applied for a uniform comparison.\n",
    "- The age distribution closely resembled a Gaussian distribution.\n",
    "- SibSp, Parch, and Fare showed left-skewed distributions, with Fare exhibiting the longest tail.\n",
    "\n",
    "**Distribution of Categorical Columns:**\n",
    "- The most common class was the 3rd grade, occupying a larger portion of the dataset.\n",
    "- The ratio of males to females was approximately 2:1.\n",
    "\n",
    "**Correlation Analysis:**\n",
    "- A significant positive correlation was observed between 'Survived' and 'Fare', and a negative correlation with 'Pclass'.\n",
    "- High negative correlations were noted with 'Sex_male' and 'Title_Mr', indicating higher survival rates for female passengers.\n",
    "- Potential multicollinearity issues were identified, such as between 'Fare' and 'Pclass', and a perfect correlation between 'Sex_male' and 'Title_Mr'. Additionally, 'Sex_male' correlated with 'Title_Mrs'. These findings are crucial for subsequent analysis, as the impact of multicollinearity varies across different machine learning models.\""
   ]
  },
  {
   "cell_type": "code",
   "execution_count": 7,
   "metadata": {},
   "outputs": [
    {
     "data": {
      "text/html": [
       "<div>\n",
       "<style scoped>\n",
       "    .dataframe tbody tr th:only-of-type {\n",
       "        vertical-align: middle;\n",
       "    }\n",
       "\n",
       "    .dataframe tbody tr th {\n",
       "        vertical-align: top;\n",
       "    }\n",
       "\n",
       "    .dataframe thead th {\n",
       "        text-align: right;\n",
       "    }\n",
       "</style>\n",
       "<table border=\"1\" class=\"dataframe\">\n",
       "  <thead>\n",
       "    <tr style=\"text-align: right;\">\n",
       "      <th></th>\n",
       "      <th>PassengerId</th>\n",
       "      <th>Survived</th>\n",
       "      <th>Pclass</th>\n",
       "      <th>Age</th>\n",
       "      <th>SibSp</th>\n",
       "      <th>Parch</th>\n",
       "      <th>Fare</th>\n",
       "    </tr>\n",
       "  </thead>\n",
       "  <tbody>\n",
       "    <tr>\n",
       "      <th>count</th>\n",
       "      <td>891.000000</td>\n",
       "      <td>891.000000</td>\n",
       "      <td>891.000000</td>\n",
       "      <td>714.000000</td>\n",
       "      <td>891.000000</td>\n",
       "      <td>891.000000</td>\n",
       "      <td>891.000000</td>\n",
       "    </tr>\n",
       "    <tr>\n",
       "      <th>mean</th>\n",
       "      <td>446.000000</td>\n",
       "      <td>0.383838</td>\n",
       "      <td>2.308642</td>\n",
       "      <td>29.699118</td>\n",
       "      <td>0.523008</td>\n",
       "      <td>0.381594</td>\n",
       "      <td>32.204208</td>\n",
       "    </tr>\n",
       "    <tr>\n",
       "      <th>std</th>\n",
       "      <td>257.353842</td>\n",
       "      <td>0.486592</td>\n",
       "      <td>0.836071</td>\n",
       "      <td>14.526497</td>\n",
       "      <td>1.102743</td>\n",
       "      <td>0.806057</td>\n",
       "      <td>49.693429</td>\n",
       "    </tr>\n",
       "    <tr>\n",
       "      <th>min</th>\n",
       "      <td>1.000000</td>\n",
       "      <td>0.000000</td>\n",
       "      <td>1.000000</td>\n",
       "      <td>0.420000</td>\n",
       "      <td>0.000000</td>\n",
       "      <td>0.000000</td>\n",
       "      <td>0.000000</td>\n",
       "    </tr>\n",
       "    <tr>\n",
       "      <th>25%</th>\n",
       "      <td>223.500000</td>\n",
       "      <td>0.000000</td>\n",
       "      <td>2.000000</td>\n",
       "      <td>20.125000</td>\n",
       "      <td>0.000000</td>\n",
       "      <td>0.000000</td>\n",
       "      <td>7.910400</td>\n",
       "    </tr>\n",
       "    <tr>\n",
       "      <th>50%</th>\n",
       "      <td>446.000000</td>\n",
       "      <td>0.000000</td>\n",
       "      <td>3.000000</td>\n",
       "      <td>28.000000</td>\n",
       "      <td>0.000000</td>\n",
       "      <td>0.000000</td>\n",
       "      <td>14.454200</td>\n",
       "    </tr>\n",
       "    <tr>\n",
       "      <th>75%</th>\n",
       "      <td>668.500000</td>\n",
       "      <td>1.000000</td>\n",
       "      <td>3.000000</td>\n",
       "      <td>38.000000</td>\n",
       "      <td>1.000000</td>\n",
       "      <td>0.000000</td>\n",
       "      <td>31.000000</td>\n",
       "    </tr>\n",
       "    <tr>\n",
       "      <th>max</th>\n",
       "      <td>891.000000</td>\n",
       "      <td>1.000000</td>\n",
       "      <td>3.000000</td>\n",
       "      <td>80.000000</td>\n",
       "      <td>8.000000</td>\n",
       "      <td>6.000000</td>\n",
       "      <td>512.329200</td>\n",
       "    </tr>\n",
       "  </tbody>\n",
       "</table>\n",
       "</div>"
      ],
      "text/plain": [
       "       PassengerId    Survived      Pclass         Age       SibSp  \\\n",
       "count   891.000000  891.000000  891.000000  714.000000  891.000000   \n",
       "mean    446.000000    0.383838    2.308642   29.699118    0.523008   \n",
       "std     257.353842    0.486592    0.836071   14.526497    1.102743   \n",
       "min       1.000000    0.000000    1.000000    0.420000    0.000000   \n",
       "25%     223.500000    0.000000    2.000000   20.125000    0.000000   \n",
       "50%     446.000000    0.000000    3.000000   28.000000    0.000000   \n",
       "75%     668.500000    1.000000    3.000000   38.000000    1.000000   \n",
       "max     891.000000    1.000000    3.000000   80.000000    8.000000   \n",
       "\n",
       "            Parch        Fare  \n",
       "count  891.000000  891.000000  \n",
       "mean     0.381594   32.204208  \n",
       "std      0.806057   49.693429  \n",
       "min      0.000000    0.000000  \n",
       "25%      0.000000    7.910400  \n",
       "50%      0.000000   14.454200  \n",
       "75%      0.000000   31.000000  \n",
       "max      6.000000  512.329200  "
      ]
     },
     "execution_count": 7,
     "metadata": {},
     "output_type": "execute_result"
    }
   ],
   "source": [
    "#Analysis of Numerical Columns:\n",
    "train_original.describe()"
   ]
  },
  {
   "cell_type": "code",
   "execution_count": 8,
   "metadata": {},
   "outputs": [
    {
     "data": {
      "image/png": "[encoded data removed]",
      "text/plain": [
       "<Figure size 720x432 with 1 Axes>"
      ]
     },
     "metadata": {
      "needs_background": "light"
     },
     "output_type": "display_data"
    }
   ],
   "source": [
    "#Distribution Comparison of Numerical Columns\n",
    "columns_to_plot = ['Survived', 'Age', 'SibSp','Parch','Fare'] \n",
    "scaler = StandardScaler()\n",
    "train_standardized = pd.DataFrame(scaler.fit_transform(train_original[columns_to_plot]), columns=columns_to_plot)\n",
    "train_long = pd.melt(train_standardized, value_vars=columns_to_plot, var_name='Column', value_name='StandardizedValue')\n",
    "\n",
    "\n",
    "plt.figure(figsize=(10, 6))\n",
    "sns.violinplot(x='Column', y='StandardizedValue', data=train_long)\n",
    "plt.title('Violin Plot of Standardized Values')\n",
    "plt.show()"
   ]
  },
  {
   "cell_type": "code",
   "execution_count": 9,
   "metadata": {},
   "outputs": [
    {
     "name": "stdout",
     "output_type": "stream",
     "text": [
      "3    491\n",
      "1    216\n",
      "2    184\n",
      "Name: Pclass, dtype: int64\n",
      "male      577\n",
      "female    314\n",
      "Name: Sex, dtype: int64\n",
      "S    644\n",
      "C    168\n",
      "Q     77\n",
      "Name: Embarked, dtype: int64\n"
     ]
    }
   ],
   "source": [
    "#Distribution of Categorical Columns\n",
    "print(train_original['Pclass'].value_counts())\n",
    "print(train_original['Sex'].value_counts())\n",
    "print(train_original['Embarked'].value_counts())"
   ]
  },
  {
   "cell_type": "code",
   "execution_count": null,
   "metadata": {},
   "outputs": [],
   "source": []
  },
  {
   "cell_type": "code",
   "execution_count": 10,
   "metadata": {},
   "outputs": [
    {
     "data": {
      "image/png": "[encoded data removed]",
      "text/plain": [
       "<Figure size 720x576 with 2 Axes>"
      ]
     },
     "metadata": {
      "needs_background": "light"
     },
     "output_type": "display_data"
    }
   ],
   "source": [
    "#Correlation Analysis\n",
    "corr_matrix = train.corr()\n",
    "\n",
    "plt.figure(figsize=(10, 8))\n",
    "sns.heatmap(corr_matrix, annot=True, cmap='coolwarm', fmt='.2f', linewidths=.5)\n",
    "plt.title('Correlation Matrix Heatmap')\n",
    "plt.show()"
   ]
  },
  {
   "cell_type": "code",
   "execution_count": 11,
   "metadata": {},
   "outputs": [],
   "source": [
    "#train = train.drop('Sex_female', axis=1)\n",
    "#train = train.drop('Sex_male', axis=1)"
   ]
  },
  {
   "cell_type": "code",
   "execution_count": 12,
   "metadata": {},
   "outputs": [],
   "source": [
    "#corr_matrix = train.corr()\n",
    "\n",
    "#plt.figure(figsize=(10, 8))\n",
    "#sns.heatmap(corr_matrix, annot=True, cmap='coolwarm', fmt='.2f', linewidths=.5)\n",
    "#plt.title('Correlation Matrix Heatmap')\n",
    "#plt.show()"
   ]
  },
  {
   "cell_type": "code",
   "execution_count": 13,
   "metadata": {},
   "outputs": [],
   "source": [
    "#_ = pd.plotting.scatter_matrix(train, c = train['Survived'], figsize =[8,8],s = 150 ,marker = 'D')\n",
    "\n"
   ]
  },
  {
   "cell_type": "markdown",
   "metadata": {},
   "source": [
    "### Modeling\n",
    "\n",
    "In the modeling phase of the Titanic dataset analysis, the following steps were undertaken. \n",
    "\n",
    "**Data Splitting:**\n",
    "- The training data was divided into X_train, X_test, y_train, and y_test subsets to evaluate the performance of the models. 30% of the dataset was allocated to the test set.\n",
    "\n",
    "**Model Selection:**\n",
    "- Three types of models were evaluated: Logistic Regression, Decision Tree, and Support Vector Machine (SVM), as this was a classification problem. These models were chosen for their relative ease of implementation and performance assessment.\n",
    "\n",
    "**Hyperparameter Tuning:**\n",
    "- For each model, two hyperparameters were selected for tuning. The values for these hyperparameters were chosen based on a heuristic approach.\n",
    "\n",
    "**Use of Pipeline and GridSearchCV:**\n",
    "- To streamline the comparison of different models and hyperparameter settings, Pipeline and GridSearchCV methods were employed.\n",
    "\n",
    "**PCA and Standardization:**\n",
    "- PCA was utilized to minimize the impact of potential multicollinearity observed in the data.\n",
    "Standard scaling was applied to mitigate the effects of skewed distributions.\n",
    "\n",
    "**Model Evaluation Metrics:**\n",
    "- Accuracy and F1 score were the primary metrics used to determine the best model. Although the target variable 'Survived' did not exhibit a heavily skewed distribution, making accuracy a suitable metric, F1 score was also considered for a comprehensive evaluation.\n",
    "\n",
    "**Cross-Validation:**\n",
    "- To reduce the risk of overfitting, cross-validation was performed. A 5-fold cross-validation approach was used for each model.\n",
    "\n",
    "**Feature Importance:**\n",
    "- Feature importance analysis was not conducted. This decision aligns with the project's focus on prediction rather than explanatory analysis, and the use of PCA, which, while beneficial for handling multicollinearity, reduces the interpretability of individual features.\"\n",
    "\n",
    "**Discussion**\n",
    "While the modeling approach in this analysis was comprehensive, it's important to acknowledge that not all possible machine learning techniques were explored. This leaves room for further investigation. For example:\n",
    "\n",
    "- Exploring Additional Models: Models like RandomForest, known for its robustness and effectiveness in classification tasks, could be a  alternative to explore.\n",
    "\n",
    "- Expanding Hyperparameter Tuning: There are numerous hyperparameters for each model, and exploring a wider range or different combinations could potentially improve performance.\n",
    "\n",
    "Given these considerations, it's possible that further optimization and enhancement of the model's performance are achievable. Additionally, it's worth noting that the choice of preprocessing steps, particularly the use of PCA, was aligned with the project's focus on prediction accuracy. However, if the objective were to emphasize feature importance and interpretability, omitting the PCA step would have been more appropriate. This would allow for a more direct analysis of how individual features influence the prediction, which is crucial in explanatory models."
   ]
  },
  {
   "cell_type": "code",
   "execution_count": 44,
   "metadata": {},
   "outputs": [
    {
     "name": "stdout",
     "output_type": "stream",
     "text": [
      "# of train rows are 623, and # of test rows are 268\n"
     ]
    }
   ],
   "source": [
    "X = train.drop('Survived', axis=1)\n",
    "y = train['Survived']\n",
    "X_train, X_test, y_train, y_test = train_test_split(X,y, test_size= 0.3, random_state =42)\n",
    "print(\"# of train rows are \" + str(X_train.shape[0]) + \", and # of test rows are \" + str(X_test.shape[0]))"
   ]
  },
  {
   "cell_type": "code",
   "execution_count": 15,
   "metadata": {},
   "outputs": [
    {
     "data": {
      "text/html": [
       "<div>\n",
       "<style scoped>\n",
       "    .dataframe tbody tr th:only-of-type {\n",
       "        vertical-align: middle;\n",
       "    }\n",
       "\n",
       "    .dataframe tbody tr th {\n",
       "        vertical-align: top;\n",
       "    }\n",
       "\n",
       "    .dataframe thead th {\n",
       "        text-align: right;\n",
       "    }\n",
       "</style>\n",
       "<table border=\"1\" class=\"dataframe\">\n",
       "  <thead>\n",
       "    <tr style=\"text-align: right;\">\n",
       "      <th></th>\n",
       "      <th>Pclass</th>\n",
       "      <th>Age</th>\n",
       "      <th>SibSp</th>\n",
       "      <th>Parch</th>\n",
       "      <th>Fare</th>\n",
       "      <th>Sex_male</th>\n",
       "      <th>Embarked_Q</th>\n",
       "      <th>Embarked_S</th>\n",
       "      <th>Title_Mr</th>\n",
       "      <th>Title_Mrs.</th>\n",
       "      <th>Title_Other</th>\n",
       "    </tr>\n",
       "  </thead>\n",
       "  <tbody>\n",
       "    <tr>\n",
       "      <th>445</th>\n",
       "      <td>1</td>\n",
       "      <td>4.0</td>\n",
       "      <td>0</td>\n",
       "      <td>2</td>\n",
       "      <td>81.8583</td>\n",
       "      <td>1</td>\n",
       "      <td>0</td>\n",
       "      <td>1</td>\n",
       "      <td>1</td>\n",
       "      <td>0</td>\n",
       "      <td>0</td>\n",
       "    </tr>\n",
       "  </tbody>\n",
       "</table>\n",
       "</div>"
      ],
      "text/plain": [
       "     Pclass  Age  SibSp  Parch     Fare  Sex_male  Embarked_Q  Embarked_S  \\\n",
       "445       1  4.0      0      2  81.8583         1           0           1   \n",
       "\n",
       "     Title_Mr  Title_Mrs.  Title_Other  \n",
       "445         1           0            0  "
      ]
     },
     "execution_count": 15,
     "metadata": {},
     "output_type": "execute_result"
    }
   ],
   "source": [
    "X_train.head(1)"
   ]
  },
  {
   "cell_type": "code",
   "execution_count": 16,
   "metadata": {},
   "outputs": [],
   "source": [
    "# Logistic Regression Pipeline\n",
    "pipeline_lr = Pipeline([\n",
    "    ('scaler1', StandardScaler()),\n",
    "    ('pca1', PCA(n_components=2)),\n",
    "    ('logreg', LogisticRegression(random_state= 42))\n",
    "])\n",
    "\n",
    "pipeline_dt = Pipeline([\n",
    "    ('scaler2', StandardScaler()),\n",
    "    ('pca2', PCA(n_components=2)),\n",
    "    ('dt', DecisionTreeClassifier())\n",
    "])\n",
    "\n",
    "pipeline_svc = Pipeline([\n",
    "    ('scaler3', StandardScaler()),\n",
    "    ('pca3', PCA(n_components=2)),\n",
    "    ('svc', SVC())\n",
    "])\n"
   ]
  },
  {
   "cell_type": "code",
   "execution_count": 17,
   "metadata": {},
   "outputs": [],
   "source": [
    "param_grid = {\n",
    "    'svc__C': [0.1, 1, 10, 100],  # Regularization parameter\n",
    "    'svc__kernel': ['linear', 'rbf', 'poly'],  # Kernel type\n",
    "    'svc__gamma': ['scale', 'auto', 1, 0.1, 0.01, 0.001]  # Kernel coefficient for 'rbf', 'poly' and 'sigmoid'\n",
    "}"
   ]
  },
  {
   "cell_type": "code",
   "execution_count": 18,
   "metadata": {},
   "outputs": [],
   "source": [
    "pipelines = [pipeline_lr,pipeline_dt,pipeline_svc]"
   ]
  },
  {
   "cell_type": "code",
   "execution_count": 19,
   "metadata": {},
   "outputs": [],
   "source": [
    "best_acc= 0.0\n",
    "best_f1= 0.0\n",
    "best_clr_acc=0\n",
    "best_clr_f1=0\n",
    "best_pipeline_acc = \"\"\n",
    "best_pipeline_f1 = \"\""
   ]
  },
  {
   "cell_type": "code",
   "execution_count": 20,
   "metadata": {},
   "outputs": [],
   "source": [
    "pipe_dict = {\n",
    "    0: 'Logistic Regression',\n",
    "    1: 'Decision Tree',\n",
    "    2: 'SVM'\n",
    "}\n",
    "for pipe in pipelines:\n",
    "    pipe.fit(X_train,y_train)"
   ]
  },
  {
   "cell_type": "code",
   "execution_count": 21,
   "metadata": {},
   "outputs": [
    {
     "name": "stdout",
     "output_type": "stream",
     "text": [
      " Logistic Regression Test Accuracy: 0.7388059701492538\n",
      " Decision Tree Test Accuracy: 0.7574626865671642\n",
      " SVM Test Accuracy: 0.7947761194029851\n"
     ]
    }
   ],
   "source": [
    "for i, model in enumerate(pipelines):\n",
    "    print(\" {} Test Accuracy: {}\" .format(pipe_dict[i], model.score(X_test,y_test)))"
   ]
  },
  {
   "cell_type": "code",
   "execution_count": 22,
   "metadata": {},
   "outputs": [
    {
     "name": "stdout",
     "output_type": "stream",
     "text": [
      "Calssifier with best accuracy: SVM\n",
      "Best Model: SVM with a Test F1 of 0.7417840375586854\n"
     ]
    }
   ],
   "source": [
    "for i, model in enumerate(pipelines):\n",
    "    \n",
    "    y_pred = model.predict(X_test)\n",
    "    f1 = f1_score(y_test, y_pred)\n",
    "    \n",
    "    if model.score(X_test, y_test) > best_acc:\n",
    "        best_acc = model.score(X_test,y_test)\n",
    "        best_pipeline = model\n",
    "        best_clr = i\n",
    "    if f1 > best_f1:\n",
    "        best_f1 = f1\n",
    "        best_pipeline_f1 = pipe_dict[i]\n",
    "        best_clr_f1 = i\n",
    "print('Calssifier with best accuracy: {}' . format(pipe_dict[best_clr]))\n",
    "print(f\"Best Model: {best_pipeline_f1 } with a Test F1 of {best_f1}\")"
   ]
  },
  {
   "cell_type": "code",
   "execution_count": 23,
   "metadata": {},
   "outputs": [],
   "source": [
    "# Parameter grid for Logistic Regression\n",
    "param_grid_lr = {\n",
    "    'logreg__C': [0.1, 1, 10],\n",
    "    'logreg__penalty': ['l2','l1']\n",
    "}\n",
    "\n",
    "# Parameter grid for Decision Tree\n",
    "param_grid_dt = {\n",
    "    'dt__max_depth': [None,1, 3, 10, 20],\n",
    "    'dt__min_samples_split': [2, 5, 10, 20]\n",
    "}\n",
    "\n",
    "# Parameter grid for SVC\n",
    "param_grid_svc = {\n",
    "    'svc__C': [0.1, 1, 10, 100],\n",
    "    'svc__kernel': ['rbf', 'linear']\n",
    "}\n",
    "\n",
    "# GridSearchCV for Logistic Regression\n",
    "grid_search_lr = GridSearchCV(pipeline_lr, param_grid_lr, cv=5, scoring='accuracy')\n",
    "grid_search_dt = GridSearchCV(pipeline_dt, param_grid_dt, cv=5, scoring='accuracy')\n",
    "grid_search_svc = GridSearchCV(pipeline_svc, param_grid_svc, cv=5, scoring='accuracy')\n",
    "grid_pipelines = [grid_search_lr, grid_search_dt, grid_search_svc]"
   ]
  },
  {
   "cell_type": "code",
   "execution_count": null,
   "metadata": {},
   "outputs": [],
   "source": []
  },
  {
   "cell_type": "code",
   "execution_count": 24,
   "metadata": {},
   "outputs": [],
   "source": [
    "best_acc= 0.0\n",
    "best_f1= 0.0\n",
    "best_clr_acc=0\n",
    "best_clr_f1=0\n",
    "best_pipeline_acc = \"\"\n",
    "best_pipeline_f1 = \"\""
   ]
  },
  {
   "cell_type": "code",
   "execution_count": 25,
   "metadata": {},
   "outputs": [],
   "source": [
    "columns = ['Model', 'Params', 'Accuracy', 'F1']\n",
    "results_df = pd.DataFrame(columns=columns)"
   ]
  },
  {
   "cell_type": "code",
   "execution_count": 26,
   "metadata": {},
   "outputs": [
    {
     "name": "stdout",
     "output_type": "stream",
     "text": [
      "Logistic Regression Best Parameters: {'logreg__C': 0.1, 'logreg__penalty': 'l2'}\n",
      "Logistic Regression Test Accuracy: 0.7388059701492538\n",
      "Logistic Regression F1 Score: 0.6391752577319586\n",
      "Decision Tree Best Parameters: {'dt__max_depth': 1, 'dt__min_samples_split': 2}\n",
      "Decision Tree Test Accuracy: 0.7873134328358209\n",
      "Decision Tree F1 Score: 0.7164179104477612\n",
      "SVM Best Parameters: {'svc__C': 10, 'svc__kernel': 'rbf'}\n",
      "SVM Test Accuracy: 0.7873134328358209\n",
      "SVM F1 Score: 0.7164179104477612\n",
      "Best Model: Decision Tree with a Test Accuracy of 0.7873134328358209\n",
      "Best Model: Decision Tree with a Test F1 of 0.7164179104477612\n"
     ]
    }
   ],
   "source": [
    "best_model_acc = None\n",
    "best_model_f1 = None\n",
    "for i, grid_pipeline in enumerate(grid_pipelines):\n",
    "    grid_pipeline.fit(X_train, y_train)\n",
    "    \n",
    "    best_estimator = grid_pipeline.best_estimator_\n",
    "    y_pred = best_estimator.predict(X_test)\n",
    "    f1 = f1_score(y_test, y_pred)\n",
    "    \n",
    "    print(f\"{pipe_dict[i]} Best Parameters: {grid_pipeline.best_params_}\")\n",
    "    print(f\"{pipe_dict[i]} Test Accuracy: {grid_pipeline.score(X_test, y_test)}\")\n",
    "    print(f\"{pipe_dict[i]} F1 Score: {f1}\")\n",
    "    \n",
    "    new_row = {\n",
    "    'Model': pipe_dict[i],\n",
    "    'Params': grid_pipeline.best_params_,\n",
    "    'Accuracy': grid_pipeline.score(X_test, y_test),\n",
    "    'F1': f1\n",
    "    }\n",
    "    results_df = results_df.append(new_row, ignore_index=True)\n",
    "    \n",
    "    # Compare to find the best model\n",
    "    if grid_pipeline.score(X_test, y_test) > best_acc:\n",
    "        best_acc = grid_pipeline.score(X_test, y_test)\n",
    "        best_pipeline_acc = pipe_dict[i]\n",
    "        best_clr_acc = i\n",
    "        best_model_acc = best_estimator \n",
    "    if f1 > best_f1:\n",
    "        best_f1 = f1\n",
    "        best_pipeline_f1 = pipe_dict[i]\n",
    "        best_clr_f1 = i\n",
    "        best_model_f1 = best_estimator \n",
    "print(f\"Best Model: {best_pipeline_acc} with a Test Accuracy of {best_acc}\")\n",
    "print(f\"Best Model: {best_pipeline_f1 } with a Test F1 of {best_f1}\")\n"
   ]
  },
  {
   "cell_type": "code",
   "execution_count": 27,
   "metadata": {},
   "outputs": [
    {
     "data": {
      "image/png": "[encoded data removed]",
      "text/plain": [
       "<Figure size 720x432 with 1 Axes>"
      ]
     },
     "metadata": {
      "needs_background": "light"
     },
     "output_type": "display_data"
    }
   ],
   "source": [
    "plt.figure(figsize=(10, 6))\n",
    "plt.scatter(results_df['Model'], results_df['Accuracy'], color='red', label='Accuracy')\n",
    "plt.scatter(results_df['Model'], results_df['F1'], color='blue', label='F1')\n",
    "\n",
    "plt.xlabel('Model')\n",
    "plt.ylabel('Scores')\n",
    "plt.title('Model Performance: Accuracy and F1 Score')\n",
    "plt.xticks(rotation=45)  # Rotating the x-axis labels for better readability\n",
    "\n",
    "plt.legend()\n",
    "plt.tight_layout()  # Adjusts the plot to ensure everything fits without overlapping\n",
    "plt.show()\n"
   ]
  },
  {
   "cell_type": "code",
   "execution_count": 28,
   "metadata": {
    "collapsed": true
   },
   "outputs": [
    {
     "name": "stdout",
     "output_type": "stream",
     "text": [
      "Pipeline(memory=None,\n",
      "         steps=[('scaler2',\n",
      "                 StandardScaler(copy=True, with_mean=True, with_std=True)),\n",
      "                ('pca2',\n",
      "                 PCA(copy=True, iterated_power='auto', n_components=2,\n",
      "                     random_state=None, svd_solver='auto', tol=0.0,\n",
      "                     whiten=False)),\n",
      "                ('dt',\n",
      "                 DecisionTreeClassifier(ccp_alpha=0.0, class_weight=None,\n",
      "                                        criterion='gini', max_depth=1,\n",
      "                                        max_features=None, max_leaf_nodes=None,\n",
      "                                        min_impurity_decrease=0.0,\n",
      "                                        min_impurity_split=None,\n",
      "                                        min_samples_leaf=1, min_samples_split=2,\n",
      "                                        min_weight_fraction_leaf=0.0,\n",
      "                                        presort='deprecated', random_state=None,\n",
      "                                        splitter='best'))],\n",
      "         verbose=False)\n",
      "Pipeline(memory=None,\n",
      "         steps=[('scaler2',\n",
      "                 StandardScaler(copy=True, with_mean=True, with_std=True)),\n",
      "                ('pca2',\n",
      "                 PCA(copy=True, iterated_power='auto', n_components=2,\n",
      "                     random_state=None, svd_solver='auto', tol=0.0,\n",
      "                     whiten=False)),\n",
      "                ('dt',\n",
      "                 DecisionTreeClassifier(ccp_alpha=0.0, class_weight=None,\n",
      "                                        criterion='gini', max_depth=1,\n",
      "                                        max_features=None, max_leaf_nodes=None,\n",
      "                                        min_impurity_decrease=0.0,\n",
      "                                        min_impurity_split=None,\n",
      "                                        min_samples_leaf=1, min_samples_split=2,\n",
      "                                        min_weight_fraction_leaf=0.0,\n",
      "                                        presort='deprecated', random_state=None,\n",
      "                                        splitter='best'))],\n",
      "         verbose=False)\n"
     ]
    }
   ],
   "source": [
    "print(best_model_acc)\n",
    "print(best_model_f1)"
   ]
  },
  {
   "cell_type": "code",
   "execution_count": 29,
   "metadata": {},
   "outputs": [
    {
     "data": {
      "text/plain": [
       "array([1., 0.])"
      ]
     },
     "execution_count": 29,
     "metadata": {},
     "output_type": "execute_result"
    }
   ],
   "source": [
    "best_model_f1.named_steps['dt'].feature_importances_"
   ]
  },
  {
   "cell_type": "code",
   "execution_count": 30,
   "metadata": {},
   "outputs": [],
   "source": [
    "results_lr = pd.DataFrame(grid_search_lr.cv_results_)\n",
    "results_dt = pd.DataFrame(grid_search_dt.cv_results_)\n",
    "results_svc = pd.DataFrame(grid_search_svc.cv_results_)\n",
    "\n",
    "relevant_columns = ['params', 'mean_test_score']\n",
    "results_lr['model'] = 'Logistic Regression'\n",
    "results_dt['model'] = 'Decision Tree'\n",
    "results_svc['model'] = 'SVC'\n",
    "\n",
    "all_results = pd.concat([results_lr, results_dt, results_svc])\n"
   ]
  },
  {
   "cell_type": "code",
   "execution_count": 31,
   "metadata": {
    "scrolled": false
   },
   "outputs": [
    {
     "data": {
      "image/png": "[encoded data removed]",
      "text/plain": [
       "<Figure size 576x432 with 1 Axes>"
      ]
     },
     "metadata": {
      "needs_background": "light"
     },
     "output_type": "display_data"
    }
   ],
   "source": [
    "results = pd.DataFrame(grid_search_svc.cv_results_)\n",
    "import matplotlib.pyplot as plt\n",
    "import seaborn as sns\n",
    "\n",
    "# Unique C values and their corresponding colors\n",
    "unique_C = results['param_svc__C'].unique()\n",
    "colors = sns.color_palette(\"hsv\", len(unique_C))\n",
    "color_map = dict(zip(unique_C, colors))\n",
    "\n",
    "plt.figure(figsize=(8, 6))\n",
    "\n",
    "# Plot each point\n",
    "for _, row in results.iterrows():\n",
    "    color = color_map[row['param_svc__C']]\n",
    "    plt.scatter(row['param_svc__kernel'], row['mean_test_score'], color=color, label=f\"C={row['param_svc__C']}\",s = 100)\n",
    "\n",
    "# Title and labels\n",
    "plt.title('SVM Performance: Kernel Type vs. Mean Test Score')\n",
    "plt.xlabel('Kernel Type')\n",
    "plt.ylabel('Mean Test Score')\n",
    "\n",
    "# Create a legend\n",
    "# To avoid duplicate labels in the legend, we create custom legend entries\n",
    "from matplotlib.lines import Line2D\n",
    "legend_elements = [Line2D([0], [0], marker='o', color='w', label=f'C={c}', \n",
    "                          markerfacecolor=color, markersize=10)\n",
    "                   for c, color in color_map.items()]\n",
    "plt.legend(handles=legend_elements, title=\"C Values\", bbox_to_anchor=(1.05, 1), loc='upper left')\n",
    "\n",
    "plt.tight_layout()\n",
    "plt.show()\n",
    "\n"
   ]
  },
  {
   "cell_type": "code",
   "execution_count": 32,
   "metadata": {},
   "outputs": [
    {
     "data": {
      "text/html": [
       "<div>\n",
       "<style scoped>\n",
       "    .dataframe tbody tr th:only-of-type {\n",
       "        vertical-align: middle;\n",
       "    }\n",
       "\n",
       "    .dataframe tbody tr th {\n",
       "        vertical-align: top;\n",
       "    }\n",
       "\n",
       "    .dataframe thead th {\n",
       "        text-align: right;\n",
       "    }\n",
       "</style>\n",
       "<table border=\"1\" class=\"dataframe\">\n",
       "  <thead>\n",
       "    <tr style=\"text-align: right;\">\n",
       "      <th></th>\n",
       "      <th>mean_fit_time</th>\n",
       "      <th>std_fit_time</th>\n",
       "      <th>mean_score_time</th>\n",
       "      <th>std_score_time</th>\n",
       "      <th>param_dt__max_depth</th>\n",
       "      <th>param_dt__min_samples_split</th>\n",
       "      <th>params</th>\n",
       "      <th>split0_test_score</th>\n",
       "      <th>split1_test_score</th>\n",
       "      <th>split2_test_score</th>\n",
       "      <th>split3_test_score</th>\n",
       "      <th>split4_test_score</th>\n",
       "      <th>mean_test_score</th>\n",
       "      <th>std_test_score</th>\n",
       "      <th>rank_test_score</th>\n",
       "    </tr>\n",
       "  </thead>\n",
       "  <tbody>\n",
       "    <tr>\n",
       "      <th>0</th>\n",
       "      <td>0.004284</td>\n",
       "      <td>0.000204</td>\n",
       "      <td>0.001076</td>\n",
       "      <td>0.000045</td>\n",
       "      <td>None</td>\n",
       "      <td>2</td>\n",
       "      <td>{'dt__max_depth': None, 'dt__min_samples_split...</td>\n",
       "      <td>0.744</td>\n",
       "      <td>0.728</td>\n",
       "      <td>0.68</td>\n",
       "      <td>0.733871</td>\n",
       "      <td>0.766129</td>\n",
       "      <td>0.7304</td>\n",
       "      <td>0.028353</td>\n",
       "      <td>18</td>\n",
       "    </tr>\n",
       "  </tbody>\n",
       "</table>\n",
       "</div>"
      ],
      "text/plain": [
       "   mean_fit_time  std_fit_time  mean_score_time  std_score_time  \\\n",
       "0       0.004284      0.000204         0.001076        0.000045   \n",
       "\n",
       "  param_dt__max_depth param_dt__min_samples_split  \\\n",
       "0                None                           2   \n",
       "\n",
       "                                              params  split0_test_score  \\\n",
       "0  {'dt__max_depth': None, 'dt__min_samples_split...              0.744   \n",
       "\n",
       "   split1_test_score  split2_test_score  split3_test_score  split4_test_score  \\\n",
       "0              0.728               0.68           0.733871           0.766129   \n",
       "\n",
       "   mean_test_score  std_test_score  rank_test_score  \n",
       "0           0.7304        0.028353               18  "
      ]
     },
     "execution_count": 32,
     "metadata": {},
     "output_type": "execute_result"
    }
   ],
   "source": [
    "pd.DataFrame(grid_search_dt.cv_results_).head(1)"
   ]
  },
  {
   "cell_type": "code",
   "execution_count": 33,
   "metadata": {},
   "outputs": [
    {
     "data": {
      "image/png": "[encoded data removed]",
      "text/plain": [
       "<Figure size 576x432 with 1 Axes>"
      ]
     },
     "metadata": {
      "needs_background": "light"
     },
     "output_type": "display_data"
    }
   ],
   "source": [
    "results = pd.DataFrame(grid_search_dt.cv_results_)\n",
    "\n",
    "# Unique C values and their corresponding colors\n",
    "unique_C = results['param_dt__max_depth'].unique()\n",
    "colors = sns.color_palette(\"hsv\", len(unique_C))\n",
    "color_map = dict(zip(unique_C, colors))\n",
    "\n",
    "plt.figure(figsize=(8, 6))\n",
    "\n",
    "# Plot each point\n",
    "for _, row in results.iterrows():\n",
    "    color = color_map[row['param_dt__max_depth']]\n",
    "    plt.scatter(row['param_dt__min_samples_split'], row['mean_test_score'], color=color, label=f\"depth={row['param_dt__max_depth']}\",s = 100)\n",
    "\n",
    "# Title and labels\n",
    "plt.title('DT Performance: depth vs. split')\n",
    "plt.xlabel('Sample sprit')\n",
    "plt.ylabel('Mean Test Score')\n",
    "\n",
    "# Create a legend\n",
    "# To avoid duplicate labels in the legend, we create custom legend entries\n",
    "from matplotlib.lines import Line2D\n",
    "legend_elements = [Line2D([0], [0], marker='o', color='w', label=f'depth={c}', \n",
    "                          markerfacecolor=color, markersize=10)\n",
    "                   for c, color in color_map.items()]\n",
    "plt.legend(handles=legend_elements, title=\"depth Values\", bbox_to_anchor=(1.05, 1), loc='upper left')\n",
    "\n",
    "plt.tight_layout()\n",
    "plt.show()\n",
    "\n"
   ]
  },
  {
   "cell_type": "code",
   "execution_count": null,
   "metadata": {},
   "outputs": [],
   "source": []
  },
  {
   "cell_type": "markdown",
   "metadata": {},
   "source": [
    "### Results and Analysis\n",
    "\n",
    "The analysis revealed that the Decision Tree Classifier emerged as the best model based on the evaluation metrics used. Specifically, it achieved an accuracy of 0.787 and an F1 score of 0.716. This clear performance edge makes the Decision Tree Classifier the preferred choice for this particular problem. However, it's important to note the following observations:\n",
    "\n",
    "**SVM Performance:**\n",
    "The Support Vector Machine (SVM) model displayed a performance comparable to the Decision Tree, particularly with the RBF kernel and C parameter set to 100. This suggests that SVM could also be a viable model in practical applications.\n",
    "\n",
    "**Logistic Regression Performance:**\n",
    "In contrast, the Logistic Regression model did not clear competitive performance in terms of either accuracy or F1 score. This aligns with the observation that linear models (including Linear SVM) did not perform as well, which is consistent with the nature of the data and the problem.\n",
    "\n",
    "**Decision Tree Parameters:**\n",
    "For the Decision Tree model, a depth of 1 was consistently the best across all sample splits, with minimal variation in performance due to changes in split criteria. This could be attributed to the application of PCA during preprocessing, which may have reduced the importance of split depth and criteria in the model's performance.\n",
    "\n",
    "In summary, while the Decision Tree Classifier stands out based on the metrics, the close performance of the SVM model, especially with specific parameter settings, suggests it should not be discounted for potential real-world application. The results also indicate that simpler models, such as Logistic Regression, might not be sufficient for this dataset, possibly due to its complexity and the nature of the variables involved"
   ]
  },
  {
   "cell_type": "code",
   "execution_count": null,
   "metadata": {},
   "outputs": [],
   "source": []
  },
  {
   "cell_type": "markdown",
   "metadata": {},
   "source": [
    "### Discussion and Conclusion\n",
    "\n",
    "\n",
    "In this project, the Titanic dataset was analyzed with the primary goal of accurately predicting the 'Survived' flag, using passenger attributes such as age and fare. The dataset was relatively clean, but required some data cleaning, including imputation for missing data. Given the classification nature of the problem and the availability of a target variable, supervised machine learning techniques were employed, specifically Logistic Regression, Decision Tree, and SVM.\n",
    "\n",
    "Following preprocessing steps like PCA and hyperparameter tuning, the Decision Tree Classifier emerged as the best model, achieving an accuracy of 0.78 and an F1 score of 0.71.\n",
    "\n",
    "**Learnings and Takeaways:**\n",
    "\n",
    "- The limited effectiveness of linear regression models suggests that the dataset likely has a non-linear distribution. Both SVM and Decision Tree performed well, with SVM showing potential to surpass Decision Tree, although not all hyperparameters were explored.\n",
    "- The success of the Decision Tree, often considered a more basic ML technique compared to SVM or RandomForest, underscores that complexity does not always equate to higher performance. This was particularly evident after standardization and PCA preprocessing.\n",
    "\n",
    "**Challenges Encountered (Things did not work well) :**\n",
    "\n",
    "- Hyperparameter tuning for the Decision Tree was less impactful, possibly due to the use of PCA. The optimal tree depth was consistently found to be 1, indicating that removing PCA or using alternative methods might yield different results.\n",
    "- The hyperparameter search, while guided by GridSearchCV, was limited by the heuristic selection of parameters, leading to only marginal improvements.\n",
    "\n",
    "**Suggestions for Improvement:**\n",
    "\n",
    "- Incorporation of additional categorical variables, such as Cabin numbers or Passenger ID, which were not used in this analysis, could reveal hidden patterns and potentially enhance accuracy.\n",
    "- Exploring alternative methods for missing value imputation, particularly for age. While the mean was a reasonable choice given the Gaussian-like distribution, other approaches like using the mode might offer better results."
   ]
  },
  {
   "cell_type": "code",
   "execution_count": null,
   "metadata": {},
   "outputs": [],
   "source": []
  },
  {
   "cell_type": "code",
   "execution_count": null,
   "metadata": {},
   "outputs": [],
   "source": [
    "## for submitting data to Kaggle. "
   ]
  },
  {
   "cell_type": "code",
   "execution_count": 34,
   "metadata": {},
   "outputs": [],
   "source": [
    "test = pd.read_csv('data/test.csv')\n",
    "test['Title'] = test['Name'].apply(lambda name: extract_title(name, title_mapping))\n",
    "                                                                \n",
    "#Handling Missing Values (NA)\n",
    "mean_age_test = test['Age'].mean()\n",
    "test['Age'] = test['Age'].fillna(mean_age_test)\n",
    "mean_age_test = test['Fare'].mean()\n",
    "test['Fare'] = test['Fare'].fillna(mean_age_test)\n",
    "test.isna().sum()\n",
    "\n",
    "#Creation of Dummy Variables\n",
    "test = pd.get_dummies(test, columns=['Sex'], drop_first=True)\n",
    "test = pd.get_dummies(test, columns=['Embarked'], drop_first=True)\n",
    "test = pd.get_dummies(test, columns=['Title'], drop_first=True)\n",
    "# Dropping Columns\n",
    "test = test.drop(['Name','Ticket', 'Cabin'], axis=1)\n",
    "test[\"Title_Other\"] = 0"
   ]
  },
  {
   "cell_type": "code",
   "execution_count": null,
   "metadata": {},
   "outputs": [],
   "source": []
  },
  {
   "cell_type": "code",
   "execution_count": 35,
   "metadata": {},
   "outputs": [
    {
     "data": {
      "text/plain": [
       "PassengerId    0\n",
       "Pclass         0\n",
       "Age            0\n",
       "SibSp          0\n",
       "Parch          0\n",
       "Fare           0\n",
       "Sex_male       0\n",
       "Embarked_Q     0\n",
       "Embarked_S     0\n",
       "Title_Mr       0\n",
       "Title_Mrs.     0\n",
       "Title_Other    0\n",
       "dtype: int64"
      ]
     },
     "execution_count": 35,
     "metadata": {},
     "output_type": "execute_result"
    }
   ],
   "source": [
    "test.isna().sum()"
   ]
  },
  {
   "cell_type": "code",
   "execution_count": 36,
   "metadata": {},
   "outputs": [
    {
     "name": "stdout",
     "output_type": "stream",
     "text": [
      "<class 'pandas.core.frame.DataFrame'>\n",
      "Int64Index: 268 entries, 709 to 430\n",
      "Data columns (total 11 columns):\n",
      " #   Column       Non-Null Count  Dtype  \n",
      "---  ------       --------------  -----  \n",
      " 0   Pclass       268 non-null    int64  \n",
      " 1   Age          268 non-null    float64\n",
      " 2   SibSp        268 non-null    int64  \n",
      " 3   Parch        268 non-null    int64  \n",
      " 4   Fare         268 non-null    float64\n",
      " 5   Sex_male     268 non-null    uint8  \n",
      " 6   Embarked_Q   268 non-null    uint8  \n",
      " 7   Embarked_S   268 non-null    uint8  \n",
      " 8   Title_Mr     268 non-null    uint8  \n",
      " 9   Title_Mrs.   268 non-null    uint8  \n",
      " 10  Title_Other  268 non-null    uint8  \n",
      "dtypes: float64(2), int64(3), uint8(6)\n",
      "memory usage: 14.1 KB\n",
      "None\n",
      "<class 'pandas.core.frame.DataFrame'>\n",
      "RangeIndex: 418 entries, 0 to 417\n",
      "Data columns (total 12 columns):\n",
      " #   Column       Non-Null Count  Dtype  \n",
      "---  ------       --------------  -----  \n",
      " 0   PassengerId  418 non-null    int64  \n",
      " 1   Pclass       418 non-null    int64  \n",
      " 2   Age          418 non-null    float64\n",
      " 3   SibSp        418 non-null    int64  \n",
      " 4   Parch        418 non-null    int64  \n",
      " 5   Fare         418 non-null    float64\n",
      " 6   Sex_male     418 non-null    uint8  \n",
      " 7   Embarked_Q   418 non-null    uint8  \n",
      " 8   Embarked_S   418 non-null    uint8  \n",
      " 9   Title_Mr     418 non-null    uint8  \n",
      " 10  Title_Mrs.   418 non-null    uint8  \n",
      " 11  Title_Other  418 non-null    int64  \n",
      "dtypes: float64(2), int64(5), uint8(5)\n",
      "memory usage: 25.0 KB\n",
      "None\n"
     ]
    }
   ],
   "source": [
    "print(X_test.info())\n",
    "print(test.info())"
   ]
  },
  {
   "cell_type": "code",
   "execution_count": 37,
   "metadata": {},
   "outputs": [
    {
     "name": "stdout",
     "output_type": "stream",
     "text": [
      "418\n",
      "418\n",
      "418\n"
     ]
    }
   ],
   "source": [
    "print(len(test))\n",
    "print(len(test.drop('PassengerId', axis=1)))\n",
    "print(len(best_pipeline.predict(test.drop('PassengerId', axis=1))))"
   ]
  },
  {
   "cell_type": "code",
   "execution_count": 42,
   "metadata": {},
   "outputs": [
    {
     "name": "stdout",
     "output_type": "stream",
     "text": [
      "418\n",
      "   PassengerId\n",
      "0          892\n",
      "418\n",
      "   PassengerId  Survival\n",
      "0          892         0\n"
     ]
    }
   ],
   "source": [
    "test_a = pd.DataFrame(test[\"PassengerId\"].copy())\n",
    "print(len(test_a))\n",
    "print(test_a.head(1))\n",
    "result = pd.DataFrame(best_pipeline.predict(test.drop('PassengerId', axis=1)))\n",
    "test_a['Survival'] =result\n",
    "print(len(result))\n",
    "#print(best_pipeline.predict(test.drop('PassengerId', axis=1)))\n",
    "print(test_a.head(1))"
   ]
  },
  {
   "cell_type": "code",
   "execution_count": 39,
   "metadata": {},
   "outputs": [
    {
     "data": {
      "text/html": [
       "<div>\n",
       "<style scoped>\n",
       "    .dataframe tbody tr th:only-of-type {\n",
       "        vertical-align: middle;\n",
       "    }\n",
       "\n",
       "    .dataframe tbody tr th {\n",
       "        vertical-align: top;\n",
       "    }\n",
       "\n",
       "    .dataframe thead th {\n",
       "        text-align: right;\n",
       "    }\n",
       "</style>\n",
       "<table border=\"1\" class=\"dataframe\">\n",
       "  <thead>\n",
       "    <tr style=\"text-align: right;\">\n",
       "      <th></th>\n",
       "      <th>PassengerId</th>\n",
       "    </tr>\n",
       "  </thead>\n",
       "  <tbody>\n",
       "    <tr>\n",
       "      <th>0</th>\n",
       "      <td>892</td>\n",
       "    </tr>\n",
       "    <tr>\n",
       "      <th>1</th>\n",
       "      <td>893</td>\n",
       "    </tr>\n",
       "    <tr>\n",
       "      <th>2</th>\n",
       "      <td>894</td>\n",
       "    </tr>\n",
       "    <tr>\n",
       "      <th>3</th>\n",
       "      <td>895</td>\n",
       "    </tr>\n",
       "    <tr>\n",
       "      <th>4</th>\n",
       "      <td>896</td>\n",
       "    </tr>\n",
       "    <tr>\n",
       "      <th>5</th>\n",
       "      <td>897</td>\n",
       "    </tr>\n",
       "    <tr>\n",
       "      <th>6</th>\n",
       "      <td>898</td>\n",
       "    </tr>\n",
       "    <tr>\n",
       "      <th>7</th>\n",
       "      <td>899</td>\n",
       "    </tr>\n",
       "    <tr>\n",
       "      <th>8</th>\n",
       "      <td>900</td>\n",
       "    </tr>\n",
       "    <tr>\n",
       "      <th>9</th>\n",
       "      <td>901</td>\n",
       "    </tr>\n",
       "  </tbody>\n",
       "</table>\n",
       "</div>"
      ],
      "text/plain": [
       "   PassengerId\n",
       "0          892\n",
       "1          893\n",
       "2          894\n",
       "3          895\n",
       "4          896\n",
       "5          897\n",
       "6          898\n",
       "7          899\n",
       "8          900\n",
       "9          901"
      ]
     },
     "execution_count": 39,
     "metadata": {},
     "output_type": "execute_result"
    }
   ],
   "source": [
    "test_a.head(10)"
   ]
  },
  {
   "cell_type": "code",
   "execution_count": 43,
   "metadata": {},
   "outputs": [],
   "source": [
    "test_a.to_csv('data/result_a.csv', index=False)\n",
    "#result.to_csv('data/result_b.csv', index=False)"
   ]
  },
  {
   "cell_type": "code",
   "execution_count": null,
   "metadata": {},
   "outputs": [],
   "source": []
  }
 ],
 "metadata": {
  "kernelspec": {
   "display_name": "Python 3",
   "language": "python",
   "name": "python3"
  },
  "language_info": {
   "codemirror_mode": {
    "name": "ipython",
    "version": 3
   },
   "file_extension": ".py",
   "mimetype": "text/x-python",
   "name": "python",
   "nbconvert_exporter": "python",
   "pygments_lexer": "ipython3",
   "version": "3.7.6"
  }
 },
 "nbformat": 4,
 "nbformat_minor": 4
}
